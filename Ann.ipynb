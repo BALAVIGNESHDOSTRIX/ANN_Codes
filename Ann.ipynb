{
  "nbformat": 4,
  "nbformat_minor": 2,
  "metadata": {
    "colab": {
      "name": "Ann.ipynb",
      "provenance": [],
      "collapsed_sections": []
    },
    "kernelspec": {
      "name": "python3",
      "display_name": "Python 3"
    },
    "language_info": {
      "name": "python"
    },
    "accelerator": "GPU"
  },
  "cells": [
    {
      "cell_type": "code",
      "execution_count": null,
      "source": [
        "import pandas as pd\n",
        "pd.set_option('display.max_columns', None)\n",
        "churndf = pd.read_csv('/Data/churn_customer.csv', delimiter=',')"
      ],
      "outputs": [],
      "metadata": {
        "id": "04PhnfHzXtWl"
      }
    },
    {
      "cell_type": "code",
      "execution_count": null,
      "source": [
        "churndf.head()"
      ],
      "outputs": [
        {
          "output_type": "execute_result",
          "data": {
            "text/plain": [
              "   RowNumber  CustomerId   Surname  CreditScore Geography  Gender  Age  \\\n",
              "0          1    15634602  Hargrave          619    France  Female   42   \n",
              "1          2    15647311      Hill          608     Spain  Female   41   \n",
              "2          3    15619304      Onio          502    France  Female   42   \n",
              "3          4    15701354      Boni          699    France  Female   39   \n",
              "4          5    15737888  Mitchell          850     Spain  Female   43   \n",
              "\n",
              "   Tenure    Balance  NumOfProducts  HasCrCard  IsActiveMember  \\\n",
              "0       2       0.00              1          1               1   \n",
              "1       1   83807.86              1          0               1   \n",
              "2       8  159660.80              3          1               0   \n",
              "3       1       0.00              2          0               0   \n",
              "4       2  125510.82              1          1               1   \n",
              "\n",
              "   EstimatedSalary  Exited  \n",
              "0        101348.88       1  \n",
              "1        112542.58       0  \n",
              "2        113931.57       1  \n",
              "3         93826.63       0  \n",
              "4         79084.10       0  "
            ],
            "text/html": [
              "<div>\n",
              "<style scoped>\n",
              "    .dataframe tbody tr th:only-of-type {\n",
              "        vertical-align: middle;\n",
              "    }\n",
              "\n",
              "    .dataframe tbody tr th {\n",
              "        vertical-align: top;\n",
              "    }\n",
              "\n",
              "    .dataframe thead th {\n",
              "        text-align: right;\n",
              "    }\n",
              "</style>\n",
              "<table border=\"1\" class=\"dataframe\">\n",
              "  <thead>\n",
              "    <tr style=\"text-align: right;\">\n",
              "      <th></th>\n",
              "      <th>RowNumber</th>\n",
              "      <th>CustomerId</th>\n",
              "      <th>Surname</th>\n",
              "      <th>CreditScore</th>\n",
              "      <th>Geography</th>\n",
              "      <th>Gender</th>\n",
              "      <th>Age</th>\n",
              "      <th>Tenure</th>\n",
              "      <th>Balance</th>\n",
              "      <th>NumOfProducts</th>\n",
              "      <th>HasCrCard</th>\n",
              "      <th>IsActiveMember</th>\n",
              "      <th>EstimatedSalary</th>\n",
              "      <th>Exited</th>\n",
              "    </tr>\n",
              "  </thead>\n",
              "  <tbody>\n",
              "    <tr>\n",
              "      <th>0</th>\n",
              "      <td>1</td>\n",
              "      <td>15634602</td>\n",
              "      <td>Hargrave</td>\n",
              "      <td>619</td>\n",
              "      <td>France</td>\n",
              "      <td>Female</td>\n",
              "      <td>42</td>\n",
              "      <td>2</td>\n",
              "      <td>0.00</td>\n",
              "      <td>1</td>\n",
              "      <td>1</td>\n",
              "      <td>1</td>\n",
              "      <td>101348.88</td>\n",
              "      <td>1</td>\n",
              "    </tr>\n",
              "    <tr>\n",
              "      <th>1</th>\n",
              "      <td>2</td>\n",
              "      <td>15647311</td>\n",
              "      <td>Hill</td>\n",
              "      <td>608</td>\n",
              "      <td>Spain</td>\n",
              "      <td>Female</td>\n",
              "      <td>41</td>\n",
              "      <td>1</td>\n",
              "      <td>83807.86</td>\n",
              "      <td>1</td>\n",
              "      <td>0</td>\n",
              "      <td>1</td>\n",
              "      <td>112542.58</td>\n",
              "      <td>0</td>\n",
              "    </tr>\n",
              "    <tr>\n",
              "      <th>2</th>\n",
              "      <td>3</td>\n",
              "      <td>15619304</td>\n",
              "      <td>Onio</td>\n",
              "      <td>502</td>\n",
              "      <td>France</td>\n",
              "      <td>Female</td>\n",
              "      <td>42</td>\n",
              "      <td>8</td>\n",
              "      <td>159660.80</td>\n",
              "      <td>3</td>\n",
              "      <td>1</td>\n",
              "      <td>0</td>\n",
              "      <td>113931.57</td>\n",
              "      <td>1</td>\n",
              "    </tr>\n",
              "    <tr>\n",
              "      <th>3</th>\n",
              "      <td>4</td>\n",
              "      <td>15701354</td>\n",
              "      <td>Boni</td>\n",
              "      <td>699</td>\n",
              "      <td>France</td>\n",
              "      <td>Female</td>\n",
              "      <td>39</td>\n",
              "      <td>1</td>\n",
              "      <td>0.00</td>\n",
              "      <td>2</td>\n",
              "      <td>0</td>\n",
              "      <td>0</td>\n",
              "      <td>93826.63</td>\n",
              "      <td>0</td>\n",
              "    </tr>\n",
              "    <tr>\n",
              "      <th>4</th>\n",
              "      <td>5</td>\n",
              "      <td>15737888</td>\n",
              "      <td>Mitchell</td>\n",
              "      <td>850</td>\n",
              "      <td>Spain</td>\n",
              "      <td>Female</td>\n",
              "      <td>43</td>\n",
              "      <td>2</td>\n",
              "      <td>125510.82</td>\n",
              "      <td>1</td>\n",
              "      <td>1</td>\n",
              "      <td>1</td>\n",
              "      <td>79084.10</td>\n",
              "      <td>0</td>\n",
              "    </tr>\n",
              "  </tbody>\n",
              "</table>\n",
              "</div>"
            ]
          },
          "metadata": {
            "tags": []
          },
          "execution_count": 3
        }
      ],
      "metadata": {
        "colab": {
          "base_uri": "https://localhost:8080/",
          "height": 224
        },
        "id": "s5KoH-1-ZSo8",
        "outputId": "cfafc5f3-7bdf-4130-b29b-0facfc8fe158"
      }
    },
    {
      "cell_type": "code",
      "execution_count": null,
      "source": [
        "x = churndf.iloc[:, 3:13] # Independent Features\n",
        "y = churndf.iloc[:,13] # Dependant Feature"
      ],
      "outputs": [],
      "metadata": {
        "id": "G4m-fsBWZwb4"
      }
    },
    {
      "cell_type": "code",
      "execution_count": null,
      "source": [
        "# Convert Categorical to Numerical\n",
        "\n",
        "gender = pd.get_dummies(x['Gender'], drop_first=True) # drop_first is used for prevent the dummy variable tarp\n",
        "geography = pd.get_dummies(x['Geography'], drop_first=True) # drop_first is used for prevent the dummy variable tarp\n"
      ],
      "outputs": [],
      "metadata": {
        "id": "IqhVuyY2aKvN"
      }
    },
    {
      "cell_type": "code",
      "execution_count": null,
      "source": [
        "x = pd.concat([x, gender, geography], axis=1)"
      ],
      "outputs": [],
      "metadata": {
        "id": "Kse0SL6VaNIp"
      }
    },
    {
      "cell_type": "code",
      "execution_count": null,
      "source": [
        "# Drop unwanted columns\n",
        "x = x.drop(['Gender', 'Geography'], axis=1)\n",
        "x.head()"
      ],
      "outputs": [
        {
          "output_type": "execute_result",
          "data": {
            "text/plain": [
              "   CreditScore  Age  Tenure    Balance  NumOfProducts  HasCrCard  \\\n",
              "0          619   42       2       0.00              1          1   \n",
              "1          608   41       1   83807.86              1          0   \n",
              "2          502   42       8  159660.80              3          1   \n",
              "3          699   39       1       0.00              2          0   \n",
              "4          850   43       2  125510.82              1          1   \n",
              "\n",
              "   IsActiveMember  EstimatedSalary  Male  Germany  Spain  \n",
              "0               1        101348.88     0        0      0  \n",
              "1               1        112542.58     0        0      1  \n",
              "2               0        113931.57     0        0      0  \n",
              "3               0         93826.63     0        0      0  \n",
              "4               1         79084.10     0        0      1  "
            ],
            "text/html": [
              "<div>\n",
              "<style scoped>\n",
              "    .dataframe tbody tr th:only-of-type {\n",
              "        vertical-align: middle;\n",
              "    }\n",
              "\n",
              "    .dataframe tbody tr th {\n",
              "        vertical-align: top;\n",
              "    }\n",
              "\n",
              "    .dataframe thead th {\n",
              "        text-align: right;\n",
              "    }\n",
              "</style>\n",
              "<table border=\"1\" class=\"dataframe\">\n",
              "  <thead>\n",
              "    <tr style=\"text-align: right;\">\n",
              "      <th></th>\n",
              "      <th>CreditScore</th>\n",
              "      <th>Age</th>\n",
              "      <th>Tenure</th>\n",
              "      <th>Balance</th>\n",
              "      <th>NumOfProducts</th>\n",
              "      <th>HasCrCard</th>\n",
              "      <th>IsActiveMember</th>\n",
              "      <th>EstimatedSalary</th>\n",
              "      <th>Male</th>\n",
              "      <th>Germany</th>\n",
              "      <th>Spain</th>\n",
              "    </tr>\n",
              "  </thead>\n",
              "  <tbody>\n",
              "    <tr>\n",
              "      <th>0</th>\n",
              "      <td>619</td>\n",
              "      <td>42</td>\n",
              "      <td>2</td>\n",
              "      <td>0.00</td>\n",
              "      <td>1</td>\n",
              "      <td>1</td>\n",
              "      <td>1</td>\n",
              "      <td>101348.88</td>\n",
              "      <td>0</td>\n",
              "      <td>0</td>\n",
              "      <td>0</td>\n",
              "    </tr>\n",
              "    <tr>\n",
              "      <th>1</th>\n",
              "      <td>608</td>\n",
              "      <td>41</td>\n",
              "      <td>1</td>\n",
              "      <td>83807.86</td>\n",
              "      <td>1</td>\n",
              "      <td>0</td>\n",
              "      <td>1</td>\n",
              "      <td>112542.58</td>\n",
              "      <td>0</td>\n",
              "      <td>0</td>\n",
              "      <td>1</td>\n",
              "    </tr>\n",
              "    <tr>\n",
              "      <th>2</th>\n",
              "      <td>502</td>\n",
              "      <td>42</td>\n",
              "      <td>8</td>\n",
              "      <td>159660.80</td>\n",
              "      <td>3</td>\n",
              "      <td>1</td>\n",
              "      <td>0</td>\n",
              "      <td>113931.57</td>\n",
              "      <td>0</td>\n",
              "      <td>0</td>\n",
              "      <td>0</td>\n",
              "    </tr>\n",
              "    <tr>\n",
              "      <th>3</th>\n",
              "      <td>699</td>\n",
              "      <td>39</td>\n",
              "      <td>1</td>\n",
              "      <td>0.00</td>\n",
              "      <td>2</td>\n",
              "      <td>0</td>\n",
              "      <td>0</td>\n",
              "      <td>93826.63</td>\n",
              "      <td>0</td>\n",
              "      <td>0</td>\n",
              "      <td>0</td>\n",
              "    </tr>\n",
              "    <tr>\n",
              "      <th>4</th>\n",
              "      <td>850</td>\n",
              "      <td>43</td>\n",
              "      <td>2</td>\n",
              "      <td>125510.82</td>\n",
              "      <td>1</td>\n",
              "      <td>1</td>\n",
              "      <td>1</td>\n",
              "      <td>79084.10</td>\n",
              "      <td>0</td>\n",
              "      <td>0</td>\n",
              "      <td>1</td>\n",
              "    </tr>\n",
              "  </tbody>\n",
              "</table>\n",
              "</div>"
            ]
          },
          "metadata": {
            "tags": []
          },
          "execution_count": 11
        }
      ],
      "metadata": {
        "colab": {
          "base_uri": "https://localhost:8080/",
          "height": 204
        },
        "id": "2o-kaUdobcGH",
        "outputId": "d09def04-bd2e-48af-c688-04c5a3d855d4"
      }
    },
    {
      "cell_type": "code",
      "execution_count": null,
      "source": [
        "# Train & test Split\n",
        "\n",
        "from sklearn.model_selection import train_test_split\n",
        "\n",
        "X_train, x_test, Y_train, y_test = train_test_split(x,y, random_state=7, test_size=0.2)"
      ],
      "outputs": [],
      "metadata": {
        "id": "Oyf-HOUYbm-d"
      }
    },
    {
      "cell_type": "code",
      "execution_count": null,
      "source": [
        "# Feature Scaling \n",
        "# Convert the X_tain, x_test to normal distribution\n",
        "\n",
        "from sklearn.preprocessing import StandardScaler\n",
        "scalar = StandardScaler()\n",
        "X_train = scalar.fit_transform(X_train)\n",
        "x_test = scalar.transform(x_test)"
      ],
      "outputs": [],
      "metadata": {
        "id": "hv5nlG7ycTzl"
      }
    },
    {
      "cell_type": "code",
      "execution_count": null,
      "source": [
        "# Create a Artificial Neural Netowrk (ANN) - using Keras\n",
        "\n",
        "from keras.models import Sequential # Base construction for all NN\n",
        "from keras.layers import Dense # Hidden layer Base\n",
        "from keras.layers import Dropout # Dropout layer Base\n",
        "\n",
        "\n",
        "# ANN initializer\n",
        "\n",
        "ANNClassifier = Sequential()\n",
        "\n",
        "# Construct the First I/P layer\n",
        "ANNClassifier.add(Dense(input_dim=11, units=7, kernel_initializer='he_normal', activation='relu'))\n",
        "\n",
        "# Construct the Hidden Layer\n",
        "ANNClassifier.add(Dense(units=5, kernel_initializer='he_normal', activation='relu'))\n",
        "\n",
        "# Construct the o/p layer\n",
        "ANNClassifier.add(Dense(units=1, kernel_initializer='glorot_uniform', activation='sigmoid'))\n",
        "\n",
        "# Compiling the ANN\n",
        "ANNClassifier.compile(optimizer='rmsprop', loss='binary_crossentropy', metrics=['accuracy'])\n",
        "\n",
        "ANNModel = ANNClassifier.fit(X_train, Y_train, validation_split=0.33, batch_size=30, epochs=100)"
      ],
      "outputs": [
        {
          "output_type": "stream",
          "name": "stdout",
          "text": [
            "Epoch 1/100\n",
            "179/179 [==============================] - 20s 5ms/step - loss: 0.7940 - accuracy: 0.4969 - val_loss: 0.6103 - val_accuracy: 0.7255\n",
            "Epoch 2/100\n",
            "179/179 [==============================] - 1s 3ms/step - loss: 0.5805 - accuracy: 0.7666 - val_loss: 0.5291 - val_accuracy: 0.7963\n",
            "Epoch 3/100\n",
            "179/179 [==============================] - 1s 3ms/step - loss: 0.5046 - accuracy: 0.8079 - val_loss: 0.5019 - val_accuracy: 0.7963\n",
            "Epoch 4/100\n",
            "179/179 [==============================] - 1s 3ms/step - loss: 0.4893 - accuracy: 0.8000 - val_loss: 0.4830 - val_accuracy: 0.7963\n",
            "Epoch 5/100\n",
            "179/179 [==============================] - 1s 3ms/step - loss: 0.4788 - accuracy: 0.7967 - val_loss: 0.4678 - val_accuracy: 0.7963\n",
            "Epoch 6/100\n",
            "179/179 [==============================] - 1s 3ms/step - loss: 0.4679 - accuracy: 0.7935 - val_loss: 0.4557 - val_accuracy: 0.7963\n",
            "Epoch 7/100\n",
            "179/179 [==============================] - 1s 3ms/step - loss: 0.4476 - accuracy: 0.7985 - val_loss: 0.4457 - val_accuracy: 0.7963\n",
            "Epoch 8/100\n",
            "179/179 [==============================] - 1s 3ms/step - loss: 0.4362 - accuracy: 0.7997 - val_loss: 0.4385 - val_accuracy: 0.7963\n",
            "Epoch 9/100\n",
            "179/179 [==============================] - 1s 3ms/step - loss: 0.4228 - accuracy: 0.8033 - val_loss: 0.4333 - val_accuracy: 0.7963\n",
            "Epoch 10/100\n",
            "179/179 [==============================] - 1s 3ms/step - loss: 0.4314 - accuracy: 0.7964 - val_loss: 0.4302 - val_accuracy: 0.7963\n",
            "Epoch 11/100\n",
            "179/179 [==============================] - 1s 3ms/step - loss: 0.4305 - accuracy: 0.7918 - val_loss: 0.4277 - val_accuracy: 0.7963\n",
            "Epoch 12/100\n",
            "179/179 [==============================] - 1s 3ms/step - loss: 0.4231 - accuracy: 0.7933 - val_loss: 0.4246 - val_accuracy: 0.7963\n",
            "Epoch 13/100\n",
            "179/179 [==============================] - 1s 3ms/step - loss: 0.4089 - accuracy: 0.8029 - val_loss: 0.4225 - val_accuracy: 0.7963\n",
            "Epoch 14/100\n",
            "179/179 [==============================] - 1s 3ms/step - loss: 0.4101 - accuracy: 0.8012 - val_loss: 0.4197 - val_accuracy: 0.7963\n",
            "Epoch 15/100\n",
            "179/179 [==============================] - 1s 3ms/step - loss: 0.4241 - accuracy: 0.7937 - val_loss: 0.4184 - val_accuracy: 0.7963\n",
            "Epoch 16/100\n",
            "179/179 [==============================] - 1s 3ms/step - loss: 0.4123 - accuracy: 0.7967 - val_loss: 0.4156 - val_accuracy: 0.7963\n",
            "Epoch 17/100\n",
            "179/179 [==============================] - 1s 3ms/step - loss: 0.4057 - accuracy: 0.7985 - val_loss: 0.4128 - val_accuracy: 0.7963\n",
            "Epoch 18/100\n",
            "179/179 [==============================] - 1s 3ms/step - loss: 0.4067 - accuracy: 0.8007 - val_loss: 0.4096 - val_accuracy: 0.7963\n",
            "Epoch 19/100\n",
            "179/179 [==============================] - 1s 3ms/step - loss: 0.4056 - accuracy: 0.8079 - val_loss: 0.4075 - val_accuracy: 0.8095\n",
            "Epoch 20/100\n",
            "179/179 [==============================] - 1s 3ms/step - loss: 0.4036 - accuracy: 0.8087 - val_loss: 0.4047 - val_accuracy: 0.8099\n",
            "Epoch 21/100\n",
            "179/179 [==============================] - 1s 3ms/step - loss: 0.3906 - accuracy: 0.8183 - val_loss: 0.4022 - val_accuracy: 0.8107\n",
            "Epoch 22/100\n",
            "179/179 [==============================] - 1s 3ms/step - loss: 0.4055 - accuracy: 0.8087 - val_loss: 0.3995 - val_accuracy: 0.8133\n",
            "Epoch 23/100\n",
            "179/179 [==============================] - 1s 3ms/step - loss: 0.3954 - accuracy: 0.8226 - val_loss: 0.3969 - val_accuracy: 0.8167\n",
            "Epoch 24/100\n",
            "179/179 [==============================] - 1s 3ms/step - loss: 0.4034 - accuracy: 0.8209 - val_loss: 0.3946 - val_accuracy: 0.8198\n",
            "Epoch 25/100\n",
            "179/179 [==============================] - 1s 3ms/step - loss: 0.3856 - accuracy: 0.8289 - val_loss: 0.3909 - val_accuracy: 0.8236\n",
            "Epoch 26/100\n",
            "179/179 [==============================] - 1s 3ms/step - loss: 0.3910 - accuracy: 0.8189 - val_loss: 0.3889 - val_accuracy: 0.8254\n",
            "Epoch 27/100\n",
            "179/179 [==============================] - 1s 3ms/step - loss: 0.3784 - accuracy: 0.8326 - val_loss: 0.3856 - val_accuracy: 0.8304\n",
            "Epoch 28/100\n",
            "179/179 [==============================] - 1s 3ms/step - loss: 0.3842 - accuracy: 0.8351 - val_loss: 0.3826 - val_accuracy: 0.8326\n",
            "Epoch 29/100\n",
            "179/179 [==============================] - 1s 3ms/step - loss: 0.3783 - accuracy: 0.8343 - val_loss: 0.3794 - val_accuracy: 0.8376\n",
            "Epoch 30/100\n",
            "179/179 [==============================] - 1s 3ms/step - loss: 0.3758 - accuracy: 0.8286 - val_loss: 0.3777 - val_accuracy: 0.8379\n",
            "Epoch 31/100\n",
            "179/179 [==============================] - 1s 3ms/step - loss: 0.3704 - accuracy: 0.8390 - val_loss: 0.3752 - val_accuracy: 0.8451\n",
            "Epoch 32/100\n",
            "179/179 [==============================] - 1s 3ms/step - loss: 0.3654 - accuracy: 0.8405 - val_loss: 0.3737 - val_accuracy: 0.8466\n",
            "Epoch 33/100\n",
            "179/179 [==============================] - 1s 3ms/step - loss: 0.3723 - accuracy: 0.8399 - val_loss: 0.3727 - val_accuracy: 0.8482\n",
            "Epoch 34/100\n",
            "179/179 [==============================] - 1s 3ms/step - loss: 0.3677 - accuracy: 0.8390 - val_loss: 0.3708 - val_accuracy: 0.8489\n",
            "Epoch 35/100\n",
            "179/179 [==============================] - 1s 3ms/step - loss: 0.3794 - accuracy: 0.8398 - val_loss: 0.3695 - val_accuracy: 0.8501\n",
            "Epoch 36/100\n",
            "179/179 [==============================] - 1s 3ms/step - loss: 0.3657 - accuracy: 0.8402 - val_loss: 0.3676 - val_accuracy: 0.8516\n",
            "Epoch 37/100\n",
            "179/179 [==============================] - 1s 3ms/step - loss: 0.3639 - accuracy: 0.8445 - val_loss: 0.3653 - val_accuracy: 0.8527\n",
            "Epoch 38/100\n",
            "179/179 [==============================] - 1s 3ms/step - loss: 0.3566 - accuracy: 0.8581 - val_loss: 0.3635 - val_accuracy: 0.8557\n",
            "Epoch 39/100\n",
            "179/179 [==============================] - 1s 3ms/step - loss: 0.3563 - accuracy: 0.8504 - val_loss: 0.3612 - val_accuracy: 0.8588\n",
            "Epoch 40/100\n",
            "179/179 [==============================] - 1s 3ms/step - loss: 0.3660 - accuracy: 0.8509 - val_loss: 0.3597 - val_accuracy: 0.8626\n",
            "Epoch 41/100\n",
            "179/179 [==============================] - 1s 3ms/step - loss: 0.3431 - accuracy: 0.8536 - val_loss: 0.3581 - val_accuracy: 0.8618\n",
            "Epoch 42/100\n",
            "179/179 [==============================] - 1s 4ms/step - loss: 0.3482 - accuracy: 0.8590 - val_loss: 0.3569 - val_accuracy: 0.8629\n",
            "Epoch 43/100\n",
            "179/179 [==============================] - 1s 3ms/step - loss: 0.3650 - accuracy: 0.8492 - val_loss: 0.3572 - val_accuracy: 0.8626\n",
            "Epoch 44/100\n",
            "179/179 [==============================] - 1s 3ms/step - loss: 0.3601 - accuracy: 0.8526 - val_loss: 0.3556 - val_accuracy: 0.8637\n",
            "Epoch 45/100\n",
            "179/179 [==============================] - 1s 3ms/step - loss: 0.3560 - accuracy: 0.8512 - val_loss: 0.3540 - val_accuracy: 0.8648\n",
            "Epoch 46/100\n",
            "179/179 [==============================] - 1s 3ms/step - loss: 0.3496 - accuracy: 0.8553 - val_loss: 0.3541 - val_accuracy: 0.8644\n",
            "Epoch 47/100\n",
            "179/179 [==============================] - 1s 3ms/step - loss: 0.3459 - accuracy: 0.8631 - val_loss: 0.3528 - val_accuracy: 0.8641\n",
            "Epoch 48/100\n",
            "179/179 [==============================] - 1s 3ms/step - loss: 0.3421 - accuracy: 0.8613 - val_loss: 0.3522 - val_accuracy: 0.8656\n",
            "Epoch 49/100\n",
            "179/179 [==============================] - 1s 4ms/step - loss: 0.3463 - accuracy: 0.8634 - val_loss: 0.3519 - val_accuracy: 0.8663\n",
            "Epoch 50/100\n",
            "179/179 [==============================] - 1s 3ms/step - loss: 0.3397 - accuracy: 0.8638 - val_loss: 0.3510 - val_accuracy: 0.8663\n",
            "Epoch 51/100\n",
            "179/179 [==============================] - 1s 3ms/step - loss: 0.3596 - accuracy: 0.8510 - val_loss: 0.3523 - val_accuracy: 0.8652\n",
            "Epoch 52/100\n",
            "179/179 [==============================] - 1s 3ms/step - loss: 0.3535 - accuracy: 0.8612 - val_loss: 0.3500 - val_accuracy: 0.8633\n",
            "Epoch 53/100\n",
            "179/179 [==============================] - 1s 3ms/step - loss: 0.3454 - accuracy: 0.8587 - val_loss: 0.3490 - val_accuracy: 0.8637\n",
            "Epoch 54/100\n",
            "179/179 [==============================] - 1s 3ms/step - loss: 0.3401 - accuracy: 0.8601 - val_loss: 0.3492 - val_accuracy: 0.8671\n",
            "Epoch 55/100\n",
            "179/179 [==============================] - 1s 3ms/step - loss: 0.3427 - accuracy: 0.8610 - val_loss: 0.3490 - val_accuracy: 0.8660\n",
            "Epoch 56/100\n",
            "179/179 [==============================] - 1s 4ms/step - loss: 0.3449 - accuracy: 0.8583 - val_loss: 0.3481 - val_accuracy: 0.8644\n",
            "Epoch 57/100\n",
            "179/179 [==============================] - 1s 3ms/step - loss: 0.3545 - accuracy: 0.8562 - val_loss: 0.3483 - val_accuracy: 0.8656\n",
            "Epoch 58/100\n",
            "179/179 [==============================] - 1s 3ms/step - loss: 0.3333 - accuracy: 0.8619 - val_loss: 0.3474 - val_accuracy: 0.8656\n",
            "Epoch 59/100\n",
            "179/179 [==============================] - 1s 3ms/step - loss: 0.3456 - accuracy: 0.8642 - val_loss: 0.3472 - val_accuracy: 0.8648\n",
            "Epoch 60/100\n",
            "179/179 [==============================] - 1s 3ms/step - loss: 0.3320 - accuracy: 0.8650 - val_loss: 0.3466 - val_accuracy: 0.8629\n",
            "Epoch 61/100\n",
            "179/179 [==============================] - 1s 3ms/step - loss: 0.3394 - accuracy: 0.8646 - val_loss: 0.3468 - val_accuracy: 0.8660\n",
            "Epoch 62/100\n",
            "179/179 [==============================] - 1s 3ms/step - loss: 0.3312 - accuracy: 0.8637 - val_loss: 0.3461 - val_accuracy: 0.8644\n",
            "Epoch 63/100\n",
            "179/179 [==============================] - 1s 3ms/step - loss: 0.3349 - accuracy: 0.8658 - val_loss: 0.3456 - val_accuracy: 0.8633\n",
            "Epoch 64/100\n",
            "179/179 [==============================] - 1s 3ms/step - loss: 0.3400 - accuracy: 0.8572 - val_loss: 0.3460 - val_accuracy: 0.8633\n",
            "Epoch 65/100\n",
            "179/179 [==============================] - 1s 3ms/step - loss: 0.3335 - accuracy: 0.8580 - val_loss: 0.3452 - val_accuracy: 0.8656\n",
            "Epoch 66/100\n",
            "179/179 [==============================] - 1s 4ms/step - loss: 0.3373 - accuracy: 0.8666 - val_loss: 0.3450 - val_accuracy: 0.8656\n",
            "Epoch 67/100\n",
            "179/179 [==============================] - 1s 3ms/step - loss: 0.3456 - accuracy: 0.8610 - val_loss: 0.3449 - val_accuracy: 0.8641\n",
            "Epoch 68/100\n",
            "179/179 [==============================] - 1s 4ms/step - loss: 0.3337 - accuracy: 0.8713 - val_loss: 0.3441 - val_accuracy: 0.8644\n",
            "Epoch 69/100\n",
            "179/179 [==============================] - 1s 3ms/step - loss: 0.3500 - accuracy: 0.8571 - val_loss: 0.3443 - val_accuracy: 0.8667\n",
            "Epoch 70/100\n",
            "179/179 [==============================] - 1s 3ms/step - loss: 0.3288 - accuracy: 0.8629 - val_loss: 0.3440 - val_accuracy: 0.8663\n",
            "Epoch 71/100\n",
            "179/179 [==============================] - 1s 3ms/step - loss: 0.3467 - accuracy: 0.8585 - val_loss: 0.3438 - val_accuracy: 0.8652\n",
            "Epoch 72/100\n",
            "179/179 [==============================] - 1s 3ms/step - loss: 0.3397 - accuracy: 0.8631 - val_loss: 0.3438 - val_accuracy: 0.8648\n",
            "Epoch 73/100\n",
            "179/179 [==============================] - 1s 3ms/step - loss: 0.3522 - accuracy: 0.8576 - val_loss: 0.3438 - val_accuracy: 0.8656\n",
            "Epoch 74/100\n",
            "179/179 [==============================] - 1s 3ms/step - loss: 0.3262 - accuracy: 0.8674 - val_loss: 0.3428 - val_accuracy: 0.8641\n",
            "Epoch 75/100\n",
            "179/179 [==============================] - 1s 3ms/step - loss: 0.3428 - accuracy: 0.8637 - val_loss: 0.3429 - val_accuracy: 0.8656\n",
            "Epoch 76/100\n",
            "179/179 [==============================] - 1s 3ms/step - loss: 0.3425 - accuracy: 0.8652 - val_loss: 0.3432 - val_accuracy: 0.8671\n",
            "Epoch 77/100\n",
            "179/179 [==============================] - 1s 3ms/step - loss: 0.3282 - accuracy: 0.8592 - val_loss: 0.3427 - val_accuracy: 0.8656\n",
            "Epoch 78/100\n",
            "179/179 [==============================] - 1s 4ms/step - loss: 0.3349 - accuracy: 0.8644 - val_loss: 0.3426 - val_accuracy: 0.8648\n",
            "Epoch 79/100\n",
            "179/179 [==============================] - 1s 3ms/step - loss: 0.3269 - accuracy: 0.8636 - val_loss: 0.3422 - val_accuracy: 0.8644\n",
            "Epoch 80/100\n",
            "179/179 [==============================] - 1s 3ms/step - loss: 0.3444 - accuracy: 0.8590 - val_loss: 0.3435 - val_accuracy: 0.8648\n",
            "Epoch 81/100\n",
            "179/179 [==============================] - 1s 3ms/step - loss: 0.3393 - accuracy: 0.8649 - val_loss: 0.3426 - val_accuracy: 0.8644\n",
            "Epoch 82/100\n",
            "179/179 [==============================] - 1s 3ms/step - loss: 0.3333 - accuracy: 0.8640 - val_loss: 0.3430 - val_accuracy: 0.8641\n",
            "Epoch 83/100\n",
            "179/179 [==============================] - 1s 3ms/step - loss: 0.3408 - accuracy: 0.8631 - val_loss: 0.3430 - val_accuracy: 0.8637\n",
            "Epoch 84/100\n",
            "179/179 [==============================] - 1s 3ms/step - loss: 0.3335 - accuracy: 0.8667 - val_loss: 0.3422 - val_accuracy: 0.8641\n",
            "Epoch 85/100\n",
            "179/179 [==============================] - 1s 3ms/step - loss: 0.3167 - accuracy: 0.8702 - val_loss: 0.3423 - val_accuracy: 0.8648\n",
            "Epoch 86/100\n",
            "179/179 [==============================] - 1s 3ms/step - loss: 0.3285 - accuracy: 0.8677 - val_loss: 0.3417 - val_accuracy: 0.8641\n",
            "Epoch 87/100\n",
            "179/179 [==============================] - 1s 3ms/step - loss: 0.3416 - accuracy: 0.8584 - val_loss: 0.3422 - val_accuracy: 0.8637\n",
            "Epoch 88/100\n",
            "179/179 [==============================] - 1s 3ms/step - loss: 0.3494 - accuracy: 0.8530 - val_loss: 0.3422 - val_accuracy: 0.8641\n",
            "Epoch 89/100\n",
            "179/179 [==============================] - 1s 3ms/step - loss: 0.3333 - accuracy: 0.8609 - val_loss: 0.3414 - val_accuracy: 0.8629\n",
            "Epoch 90/100\n",
            "179/179 [==============================] - 1s 3ms/step - loss: 0.3339 - accuracy: 0.8620 - val_loss: 0.3421 - val_accuracy: 0.8637\n",
            "Epoch 91/100\n",
            "179/179 [==============================] - 1s 3ms/step - loss: 0.3366 - accuracy: 0.8581 - val_loss: 0.3420 - val_accuracy: 0.8652\n",
            "Epoch 92/100\n",
            "179/179 [==============================] - 1s 3ms/step - loss: 0.3344 - accuracy: 0.8668 - val_loss: 0.3416 - val_accuracy: 0.8633\n",
            "Epoch 93/100\n",
            "179/179 [==============================] - 1s 3ms/step - loss: 0.3512 - accuracy: 0.8548 - val_loss: 0.3422 - val_accuracy: 0.8629\n",
            "Epoch 94/100\n",
            "179/179 [==============================] - 1s 4ms/step - loss: 0.3278 - accuracy: 0.8680 - val_loss: 0.3417 - val_accuracy: 0.8622\n",
            "Epoch 95/100\n",
            "179/179 [==============================] - 1s 3ms/step - loss: 0.3386 - accuracy: 0.8622 - val_loss: 0.3416 - val_accuracy: 0.8622\n",
            "Epoch 96/100\n",
            "179/179 [==============================] - 1s 3ms/step - loss: 0.3339 - accuracy: 0.8680 - val_loss: 0.3417 - val_accuracy: 0.8614\n",
            "Epoch 97/100\n",
            "179/179 [==============================] - 1s 3ms/step - loss: 0.3380 - accuracy: 0.8583 - val_loss: 0.3410 - val_accuracy: 0.8622\n",
            "Epoch 98/100\n",
            "179/179 [==============================] - 1s 3ms/step - loss: 0.3436 - accuracy: 0.8578 - val_loss: 0.3413 - val_accuracy: 0.8610\n",
            "Epoch 99/100\n",
            "179/179 [==============================] - 1s 3ms/step - loss: 0.3314 - accuracy: 0.8677 - val_loss: 0.3411 - val_accuracy: 0.8614\n",
            "Epoch 100/100\n",
            "179/179 [==============================] - 1s 3ms/step - loss: 0.3429 - accuracy: 0.8570 - val_loss: 0.3417 - val_accuracy: 0.8618\n"
          ]
        }
      ],
      "metadata": {
        "colab": {
          "base_uri": "https://localhost:8080/"
        },
        "id": "BEWjW88IcuE3",
        "outputId": "cd2dd41d-5a3b-4336-d15c-2210b1564fdf"
      }
    },
    {
      "cell_type": "code",
      "execution_count": null,
      "source": [
        "ANNClassifier.summary()"
      ],
      "outputs": [
        {
          "output_type": "stream",
          "name": "stdout",
          "text": [
            "Model: \"sequential_3\"\n",
            "_________________________________________________________________\n",
            "Layer (type)                 Output Shape              Param #   \n",
            "=================================================================\n",
            "dense_3 (Dense)              (None, 7)                 84        \n",
            "_________________________________________________________________\n",
            "dense_4 (Dense)              (None, 5)                 40        \n",
            "_________________________________________________________________\n",
            "dense_5 (Dense)              (None, 1)                 6         \n",
            "=================================================================\n",
            "Total params: 130\n",
            "Trainable params: 130\n",
            "Non-trainable params: 0\n",
            "_________________________________________________________________\n"
          ]
        }
      ],
      "metadata": {
        "colab": {
          "base_uri": "https://localhost:8080/"
        },
        "id": "sIdqW7XJhLfm",
        "outputId": "b722e29e-7455-4975-f910-ad80d8e96a4e"
      }
    },
    {
      "cell_type": "code",
      "execution_count": null,
      "source": [
        "from keras.utils.vis_utils import plot_model\n",
        "plot_model(ANNClassifier, to_file='model_plot.png', show_shapes=True, show_layer_names=True)"
      ],
      "outputs": [
        {
          "output_type": "execute_result",
          "data": {
            "text/plain": [
              "<IPython.core.display.Image object>"
            ],
            "image/png": "[encoded data removed]"
          },
          "metadata": {
            "tags": []
          },
          "execution_count": 24
        }
      ],
      "metadata": {
        "colab": {
          "base_uri": "https://localhost:8080/",
          "height": 422
        },
        "id": "dXF_uKBjj9kG",
        "outputId": "5ca6fefc-a879-4cd7-d79c-887315f5cea2"
      }
    },
    {
      "cell_type": "code",
      "execution_count": null,
      "source": [
        "!pip3 install ann_visualizer\n",
        "!pip install graphviz"
      ],
      "outputs": [
        {
          "output_type": "stream",
          "name": "stdout",
          "text": [
            "Requirement already satisfied: ann_visualizer in /usr/local/lib/python3.7/dist-packages (2.5)\n",
            "Requirement already satisfied: graphviz in /usr/local/lib/python3.7/dist-packages (0.10.1)\n"
          ]
        }
      ],
      "metadata": {
        "colab": {
          "base_uri": "https://localhost:8080/"
        },
        "id": "GTIxxO3vk3sW",
        "outputId": "67e3a143-bcf6-4d55-e41b-e052c8d9c316"
      }
    },
    {
      "cell_type": "code",
      "execution_count": null,
      "source": [
        "from ann_visualizer.visualize import ann_viz;\n",
        "\n",
        "ann_viz(ANNClassifier, title=\"My first neural network\", view=True,filename='/content/drive/My Drive/visualize/network.gv')"
      ],
      "outputs": [],
      "metadata": {
        "id": "B0qcI7MZl3_g"
      }
    }
  ]
}