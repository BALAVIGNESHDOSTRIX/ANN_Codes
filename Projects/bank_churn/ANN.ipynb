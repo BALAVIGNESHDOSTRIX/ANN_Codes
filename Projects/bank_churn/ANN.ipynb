{
  "nbformat": 4,
  "nbformat_minor": 0,
  "metadata": {
    "colab": {
      "name": "ANN.ipynb",
      "provenance": []
    },
    "kernelspec": {
      "name": "python3",
      "display_name": "Python 3"
    },
    "accelerator": "GPU"
  },
  "cells": [
    {
      "cell_type": "code",
      "metadata": {
        "id": "blxhcVIECV-9",
        "colab_type": "code",
        "colab": {
          "base_uri": "https://localhost:8080/",
          "height": 224
        },
        "outputId": "0c982f9b-0390-4272-e734-523f019b5cec"
      },
      "source": [
        "# Artificial Neural Network\n",
        "import pandas as pd\n",
        "import matplotlib.pyplot as plt\n",
        "import numpy as np\n",
        "\n",
        "# Read csv to dataframe\n",
        "df = pd.read_csv('churn_model.csv')\n",
        "df.head()"
      ],
      "execution_count": 4,
      "outputs": [
        {
          "output_type": "execute_result",
          "data": {
            "text/html": [
              "<div>\n",
              "<style scoped>\n",
              "    .dataframe tbody tr th:only-of-type {\n",
              "        vertical-align: middle;\n",
              "    }\n",
              "\n",
              "    .dataframe tbody tr th {\n",
              "        vertical-align: top;\n",
              "    }\n",
              "\n",
              "    .dataframe thead th {\n",
              "        text-align: right;\n",
              "    }\n",
              "</style>\n",
              "<table border=\"1\" class=\"dataframe\">\n",
              "  <thead>\n",
              "    <tr style=\"text-align: right;\">\n",
              "      <th></th>\n",
              "      <th>RowNumber</th>\n",
              "      <th>CustomerId</th>\n",
              "      <th>Surname</th>\n",
              "      <th>CreditScore</th>\n",
              "      <th>Geography</th>\n",
              "      <th>Gender</th>\n",
              "      <th>Age</th>\n",
              "      <th>Tenure</th>\n",
              "      <th>Balance</th>\n",
              "      <th>NumOfProducts</th>\n",
              "      <th>HasCrCard</th>\n",
              "      <th>IsActiveMember</th>\n",
              "      <th>EstimatedSalary</th>\n",
              "      <th>Exited</th>\n",
              "    </tr>\n",
              "  </thead>\n",
              "  <tbody>\n",
              "    <tr>\n",
              "      <th>0</th>\n",
              "      <td>1</td>\n",
              "      <td>15634602</td>\n",
              "      <td>Hargrave</td>\n",
              "      <td>619</td>\n",
              "      <td>France</td>\n",
              "      <td>Female</td>\n",
              "      <td>42</td>\n",
              "      <td>2</td>\n",
              "      <td>0.00</td>\n",
              "      <td>1</td>\n",
              "      <td>1</td>\n",
              "      <td>1</td>\n",
              "      <td>101348.88</td>\n",
              "      <td>1</td>\n",
              "    </tr>\n",
              "    <tr>\n",
              "      <th>1</th>\n",
              "      <td>2</td>\n",
              "      <td>15647311</td>\n",
              "      <td>Hill</td>\n",
              "      <td>608</td>\n",
              "      <td>Spain</td>\n",
              "      <td>Female</td>\n",
              "      <td>41</td>\n",
              "      <td>1</td>\n",
              "      <td>83807.86</td>\n",
              "      <td>1</td>\n",
              "      <td>0</td>\n",
              "      <td>1</td>\n",
              "      <td>112542.58</td>\n",
              "      <td>0</td>\n",
              "    </tr>\n",
              "    <tr>\n",
              "      <th>2</th>\n",
              "      <td>3</td>\n",
              "      <td>15619304</td>\n",
              "      <td>Onio</td>\n",
              "      <td>502</td>\n",
              "      <td>France</td>\n",
              "      <td>Female</td>\n",
              "      <td>42</td>\n",
              "      <td>8</td>\n",
              "      <td>159660.80</td>\n",
              "      <td>3</td>\n",
              "      <td>1</td>\n",
              "      <td>0</td>\n",
              "      <td>113931.57</td>\n",
              "      <td>1</td>\n",
              "    </tr>\n",
              "    <tr>\n",
              "      <th>3</th>\n",
              "      <td>4</td>\n",
              "      <td>15701354</td>\n",
              "      <td>Boni</td>\n",
              "      <td>699</td>\n",
              "      <td>France</td>\n",
              "      <td>Female</td>\n",
              "      <td>39</td>\n",
              "      <td>1</td>\n",
              "      <td>0.00</td>\n",
              "      <td>2</td>\n",
              "      <td>0</td>\n",
              "      <td>0</td>\n",
              "      <td>93826.63</td>\n",
              "      <td>0</td>\n",
              "    </tr>\n",
              "    <tr>\n",
              "      <th>4</th>\n",
              "      <td>5</td>\n",
              "      <td>15737888</td>\n",
              "      <td>Mitchell</td>\n",
              "      <td>850</td>\n",
              "      <td>Spain</td>\n",
              "      <td>Female</td>\n",
              "      <td>43</td>\n",
              "      <td>2</td>\n",
              "      <td>125510.82</td>\n",
              "      <td>1</td>\n",
              "      <td>1</td>\n",
              "      <td>1</td>\n",
              "      <td>79084.10</td>\n",
              "      <td>0</td>\n",
              "    </tr>\n",
              "  </tbody>\n",
              "</table>\n",
              "</div>"
            ],
            "text/plain": [
              "   RowNumber  CustomerId   Surname  ...  IsActiveMember EstimatedSalary Exited\n",
              "0          1    15634602  Hargrave  ...               1       101348.88      1\n",
              "1          2    15647311      Hill  ...               1       112542.58      0\n",
              "2          3    15619304      Onio  ...               0       113931.57      1\n",
              "3          4    15701354      Boni  ...               0        93826.63      0\n",
              "4          5    15737888  Mitchell  ...               1        79084.10      0\n",
              "\n",
              "[5 rows x 14 columns]"
            ]
          },
          "metadata": {
            "tags": []
          },
          "execution_count": 4
        }
      ]
    },
    {
      "cell_type": "code",
      "metadata": {
        "id": "gzgGjb5iC9mH",
        "colab_type": "code",
        "colab": {}
      },
      "source": [
        "X = df.iloc[:, 3:13]\n",
        "y = df.iloc[:, 13]"
      ],
      "execution_count": 9,
      "outputs": []
    },
    {
      "cell_type": "code",
      "metadata": {
        "id": "_ZibUkdVDKUo",
        "colab_type": "code",
        "colab": {
          "base_uri": "https://localhost:8080/",
          "height": 419
        },
        "outputId": "e8cbeeda-e569-4f17-c1a9-841e7ae04d7d"
      },
      "source": [
        "#Create dummy variables\n",
        "geography=pd.get_dummies(X[\"Geography\"],drop_first=True)\n",
        "gender=pd.get_dummies(X['Gender'],drop_first=True)\n",
        "\n",
        "geography"
      ],
      "execution_count": 14,
      "outputs": [
        {
          "output_type": "execute_result",
          "data": {
            "text/html": [
              "<div>\n",
              "<style scoped>\n",
              "    .dataframe tbody tr th:only-of-type {\n",
              "        vertical-align: middle;\n",
              "    }\n",
              "\n",
              "    .dataframe tbody tr th {\n",
              "        vertical-align: top;\n",
              "    }\n",
              "\n",
              "    .dataframe thead th {\n",
              "        text-align: right;\n",
              "    }\n",
              "</style>\n",
              "<table border=\"1\" class=\"dataframe\">\n",
              "  <thead>\n",
              "    <tr style=\"text-align: right;\">\n",
              "      <th></th>\n",
              "      <th>Germany</th>\n",
              "      <th>Spain</th>\n",
              "    </tr>\n",
              "  </thead>\n",
              "  <tbody>\n",
              "    <tr>\n",
              "      <th>0</th>\n",
              "      <td>0</td>\n",
              "      <td>0</td>\n",
              "    </tr>\n",
              "    <tr>\n",
              "      <th>1</th>\n",
              "      <td>0</td>\n",
              "      <td>1</td>\n",
              "    </tr>\n",
              "    <tr>\n",
              "      <th>2</th>\n",
              "      <td>0</td>\n",
              "      <td>0</td>\n",
              "    </tr>\n",
              "    <tr>\n",
              "      <th>3</th>\n",
              "      <td>0</td>\n",
              "      <td>0</td>\n",
              "    </tr>\n",
              "    <tr>\n",
              "      <th>4</th>\n",
              "      <td>0</td>\n",
              "      <td>1</td>\n",
              "    </tr>\n",
              "    <tr>\n",
              "      <th>...</th>\n",
              "      <td>...</td>\n",
              "      <td>...</td>\n",
              "    </tr>\n",
              "    <tr>\n",
              "      <th>9995</th>\n",
              "      <td>0</td>\n",
              "      <td>0</td>\n",
              "    </tr>\n",
              "    <tr>\n",
              "      <th>9996</th>\n",
              "      <td>0</td>\n",
              "      <td>0</td>\n",
              "    </tr>\n",
              "    <tr>\n",
              "      <th>9997</th>\n",
              "      <td>0</td>\n",
              "      <td>0</td>\n",
              "    </tr>\n",
              "    <tr>\n",
              "      <th>9998</th>\n",
              "      <td>1</td>\n",
              "      <td>0</td>\n",
              "    </tr>\n",
              "    <tr>\n",
              "      <th>9999</th>\n",
              "      <td>0</td>\n",
              "      <td>0</td>\n",
              "    </tr>\n",
              "  </tbody>\n",
              "</table>\n",
              "<p>10000 rows × 2 columns</p>\n",
              "</div>"
            ],
            "text/plain": [
              "      Germany  Spain\n",
              "0           0      0\n",
              "1           0      1\n",
              "2           0      0\n",
              "3           0      0\n",
              "4           0      1\n",
              "...       ...    ...\n",
              "9995        0      0\n",
              "9996        0      0\n",
              "9997        0      0\n",
              "9998        1      0\n",
              "9999        0      0\n",
              "\n",
              "[10000 rows x 2 columns]"
            ]
          },
          "metadata": {
            "tags": []
          },
          "execution_count": 14
        }
      ]
    },
    {
      "cell_type": "code",
      "metadata": {
        "id": "BRxBpkxMDffD",
        "colab_type": "code",
        "colab": {}
      },
      "source": [
        "## Concatenate the Data Frames\n",
        "\n",
        "X=pd.concat([X,geography,gender],axis=1)\n",
        "\n",
        "## Drop Unnecessary columns\n",
        "X=X.drop(['Geography','Gender'],axis=1)"
      ],
      "execution_count": 15,
      "outputs": []
    },
    {
      "cell_type": "code",
      "metadata": {
        "id": "w799Rvy9GBju",
        "colab_type": "code",
        "colab": {}
      },
      "source": [
        "# Splitting the dataset into the Training set and Test set\n",
        "from sklearn.model_selection import train_test_split\n",
        "X_train, X_test, y_train, y_test = train_test_split(X, y, test_size = 0.3, random_state = 7)"
      ],
      "execution_count": 16,
      "outputs": []
    },
    {
      "cell_type": "code",
      "metadata": {
        "id": "tgPii5OHGK2t",
        "colab_type": "code",
        "colab": {
          "base_uri": "https://localhost:8080/",
          "height": 238
        },
        "outputId": "e7c99909-570a-4959-9fb9-2e37c6ddb6b9"
      },
      "source": [
        "# Feature Scaling\n",
        "from sklearn.preprocessing import StandardScaler\n",
        "sc = StandardScaler()\n",
        "X_train = sc.fit_transform(X_train)\n",
        "X_test = sc.transform(X_test)\n",
        "\n",
        "X_train\n",
        "\n",
        "''' \n",
        "    To Reduce the computation complex and time to sort the high value contains data fields to small range of values\n",
        "'''"
      ],
      "execution_count": 17,
      "outputs": [
        {
          "output_type": "execute_result",
          "data": {
            "text/plain": [
              "array([[ 0.16958176, -0.46460796,  0.00666099, ..., -0.5698444 ,\n",
              "         1.74309049, -1.09168714],\n",
              "       [-2.30455945,  0.30102557, -1.37744033, ...,  1.75486502,\n",
              "        -0.57369368,  0.91601335],\n",
              "       [-1.19119591, -0.94312892, -1.031415  , ..., -0.5698444 ,\n",
              "        -0.57369368, -1.09168714],\n",
              "       ...,\n",
              "       [ 0.9015152 , -0.36890377,  0.00666099, ..., -0.5698444 ,\n",
              "        -0.57369368,  0.91601335],\n",
              "       [-0.62420521, -0.08179119,  1.39076231, ..., -0.5698444 ,\n",
              "         1.74309049, -1.09168714],\n",
              "       [-0.28401079,  0.87525072, -1.37744033, ...,  1.75486502,\n",
              "        -0.57369368, -1.09168714]])"
            ]
          },
          "metadata": {
            "tags": []
          },
          "execution_count": 17
        }
      ]
    },
    {
      "cell_type": "code",
      "metadata": {
        "id": "nb27EumQGVsZ",
        "colab_type": "code",
        "colab": {}
      },
      "source": [
        "#Keras Model\n",
        "\n",
        "import keras \n",
        "from keras.models import Sequential\n",
        "from keras.layers import Dense, LeakyReLU, ReLU, ELU, Dropout\n",
        "\n",
        "# Initialising the ANN\n",
        "classifier = Sequential()"
      ],
      "execution_count": 19,
      "outputs": []
    },
    {
      "cell_type": "code",
      "metadata": {
        "id": "MqpF9YVhHILu",
        "colab_type": "code",
        "colab": {}
      },
      "source": [
        "# Adding the first layer input and hidden neuron layer\n",
        "classifier.add(Dense(units=7, kernel_initializer='he_uniform', activation='relu', input_dim=11))"
      ],
      "execution_count": 20,
      "outputs": []
    },
    {
      "cell_type": "code",
      "metadata": {
        "id": "DlNGhB4RH6K8",
        "colab_type": "code",
        "colab": {
          "base_uri": "https://localhost:8080/",
          "height": 1000
        },
        "outputId": "6ff51ee6-766d-4f5c-e395-7e41656c4111"
      },
      "source": [
        "# Adding the second hidden layer\n",
        "classifier.add(Dense(output_dim = 7, init = 'he_uniform',activation='relu'))\n",
        "# Adding the output layer\n",
        "classifier.add(Dense(output_dim = 1, init = 'glorot_uniform', activation = 'sigmoid'))\n",
        "\n",
        "# Compiling the ANN\n",
        "classifier.compile(optimizer = 'Adamax', loss = 'binary_crossentropy', metrics = ['accuracy'])\n",
        "\n",
        "# Fitting the ANN to the Training set\n",
        "model_history=classifier.fit(X_train, y_train,validation_split=0.33, batch_size = 10, nb_epoch = 100)"
      ],
      "execution_count": 21,
      "outputs": [
        {
          "output_type": "stream",
          "text": [
            "/usr/local/lib/python3.6/dist-packages/ipykernel_launcher.py:2: UserWarning: Update your `Dense` call to the Keras 2 API: `Dense(activation=\"relu\", units=7, kernel_initializer=\"he_uniform\")`\n",
            "  \n",
            "/usr/local/lib/python3.6/dist-packages/ipykernel_launcher.py:4: UserWarning: Update your `Dense` call to the Keras 2 API: `Dense(activation=\"sigmoid\", units=1, kernel_initializer=\"glorot_uniform\")`\n",
            "  after removing the cwd from sys.path.\n",
            "/usr/local/lib/python3.6/dist-packages/ipykernel_launcher.py:10: UserWarning: The `nb_epoch` argument in `fit` has been renamed `epochs`.\n",
            "  # Remove the CWD from sys.path while we load stuff.\n"
          ],
          "name": "stderr"
        },
        {
          "output_type": "stream",
          "text": [
            "Train on 5359 samples, validate on 2641 samples\n",
            "Epoch 1/100\n",
            "5359/5359 [==============================] - 4s 786us/step - loss: 0.5635 - accuracy: 0.7225 - val_loss: 0.5006 - val_accuracy: 0.7902\n",
            "Epoch 2/100\n",
            "5359/5359 [==============================] - 2s 431us/step - loss: 0.4702 - accuracy: 0.7972 - val_loss: 0.4753 - val_accuracy: 0.7967\n",
            "Epoch 3/100\n",
            "5359/5359 [==============================] - 2s 435us/step - loss: 0.4498 - accuracy: 0.8015 - val_loss: 0.4602 - val_accuracy: 0.7986\n",
            "Epoch 4/100\n",
            "5359/5359 [==============================] - 2s 442us/step - loss: 0.4371 - accuracy: 0.8044 - val_loss: 0.4495 - val_accuracy: 0.7940\n",
            "Epoch 5/100\n",
            "5359/5359 [==============================] - 2s 430us/step - loss: 0.4282 - accuracy: 0.8078 - val_loss: 0.4430 - val_accuracy: 0.7989\n",
            "Epoch 6/100\n",
            "5359/5359 [==============================] - 2s 436us/step - loss: 0.4220 - accuracy: 0.8091 - val_loss: 0.4371 - val_accuracy: 0.7967\n",
            "Epoch 7/100\n",
            "5359/5359 [==============================] - 2s 417us/step - loss: 0.4167 - accuracy: 0.8093 - val_loss: 0.4326 - val_accuracy: 0.7978\n",
            "Epoch 8/100\n",
            "5359/5359 [==============================] - 2s 422us/step - loss: 0.4119 - accuracy: 0.8115 - val_loss: 0.4288 - val_accuracy: 0.7974\n",
            "Epoch 9/100\n",
            "5359/5359 [==============================] - 2s 440us/step - loss: 0.4076 - accuracy: 0.8113 - val_loss: 0.4252 - val_accuracy: 0.8005\n",
            "Epoch 10/100\n",
            "5359/5359 [==============================] - 3s 469us/step - loss: 0.4036 - accuracy: 0.8141 - val_loss: 0.4210 - val_accuracy: 0.8023\n",
            "Epoch 11/100\n",
            "5359/5359 [==============================] - 2s 436us/step - loss: 0.3990 - accuracy: 0.8168 - val_loss: 0.4170 - val_accuracy: 0.8035\n",
            "Epoch 12/100\n",
            "5359/5359 [==============================] - 2s 422us/step - loss: 0.3944 - accuracy: 0.8171 - val_loss: 0.4121 - val_accuracy: 0.8046\n",
            "Epoch 13/100\n",
            "5359/5359 [==============================] - 2s 440us/step - loss: 0.3890 - accuracy: 0.8184 - val_loss: 0.4068 - val_accuracy: 0.8088\n",
            "Epoch 14/100\n",
            "5359/5359 [==============================] - 2s 450us/step - loss: 0.3839 - accuracy: 0.8201 - val_loss: 0.4023 - val_accuracy: 0.8095\n",
            "Epoch 15/100\n",
            "5359/5359 [==============================] - 2s 452us/step - loss: 0.3791 - accuracy: 0.8225 - val_loss: 0.3982 - val_accuracy: 0.8145\n",
            "Epoch 16/100\n",
            "5359/5359 [==============================] - 3s 472us/step - loss: 0.3748 - accuracy: 0.8225 - val_loss: 0.3940 - val_accuracy: 0.8190\n",
            "Epoch 17/100\n",
            "5359/5359 [==============================] - 3s 506us/step - loss: 0.3708 - accuracy: 0.8306 - val_loss: 0.3907 - val_accuracy: 0.8243\n",
            "Epoch 18/100\n",
            "5359/5359 [==============================] - 3s 502us/step - loss: 0.3673 - accuracy: 0.8397 - val_loss: 0.3878 - val_accuracy: 0.8277\n",
            "Epoch 19/100\n",
            "5359/5359 [==============================] - 3s 473us/step - loss: 0.3640 - accuracy: 0.8436 - val_loss: 0.3851 - val_accuracy: 0.8345\n",
            "Epoch 20/100\n",
            "5359/5359 [==============================] - 3s 475us/step - loss: 0.3614 - accuracy: 0.8489 - val_loss: 0.3825 - val_accuracy: 0.8368\n",
            "Epoch 21/100\n",
            "5359/5359 [==============================] - 3s 502us/step - loss: 0.3588 - accuracy: 0.8515 - val_loss: 0.3803 - val_accuracy: 0.8398\n",
            "Epoch 22/100\n",
            "5359/5359 [==============================] - 3s 486us/step - loss: 0.3566 - accuracy: 0.8530 - val_loss: 0.3789 - val_accuracy: 0.8410\n",
            "Epoch 23/100\n",
            "5359/5359 [==============================] - 2s 446us/step - loss: 0.3546 - accuracy: 0.8548 - val_loss: 0.3781 - val_accuracy: 0.8383\n",
            "Epoch 24/100\n",
            "5359/5359 [==============================] - 2s 420us/step - loss: 0.3529 - accuracy: 0.8531 - val_loss: 0.3755 - val_accuracy: 0.8402\n",
            "Epoch 25/100\n",
            "5359/5359 [==============================] - 2s 425us/step - loss: 0.3516 - accuracy: 0.8554 - val_loss: 0.3745 - val_accuracy: 0.8410\n",
            "Epoch 26/100\n",
            "5359/5359 [==============================] - 2s 449us/step - loss: 0.3499 - accuracy: 0.8558 - val_loss: 0.3734 - val_accuracy: 0.8398\n",
            "Epoch 27/100\n",
            "5359/5359 [==============================] - 3s 494us/step - loss: 0.3488 - accuracy: 0.8565 - val_loss: 0.3722 - val_accuracy: 0.8417\n",
            "Epoch 28/100\n",
            "5359/5359 [==============================] - 2s 439us/step - loss: 0.3478 - accuracy: 0.8559 - val_loss: 0.3715 - val_accuracy: 0.8432\n",
            "Epoch 29/100\n",
            "5359/5359 [==============================] - 2s 439us/step - loss: 0.3468 - accuracy: 0.8578 - val_loss: 0.3705 - val_accuracy: 0.8440\n",
            "Epoch 30/100\n",
            "5359/5359 [==============================] - 3s 493us/step - loss: 0.3458 - accuracy: 0.8587 - val_loss: 0.3699 - val_accuracy: 0.8448\n",
            "Epoch 31/100\n",
            "5359/5359 [==============================] - 2s 433us/step - loss: 0.3449 - accuracy: 0.8586 - val_loss: 0.3691 - val_accuracy: 0.8470\n",
            "Epoch 32/100\n",
            "5359/5359 [==============================] - 2s 422us/step - loss: 0.3438 - accuracy: 0.8584 - val_loss: 0.3684 - val_accuracy: 0.8455\n",
            "Epoch 33/100\n",
            "5359/5359 [==============================] - 2s 427us/step - loss: 0.3432 - accuracy: 0.8593 - val_loss: 0.3675 - val_accuracy: 0.8466\n",
            "Epoch 34/100\n",
            "5359/5359 [==============================] - 2s 450us/step - loss: 0.3426 - accuracy: 0.8591 - val_loss: 0.3675 - val_accuracy: 0.8451\n",
            "Epoch 35/100\n",
            "5359/5359 [==============================] - 3s 477us/step - loss: 0.3423 - accuracy: 0.8587 - val_loss: 0.3662 - val_accuracy: 0.8482\n",
            "Epoch 36/100\n",
            "5359/5359 [==============================] - 2s 428us/step - loss: 0.3415 - accuracy: 0.8578 - val_loss: 0.3658 - val_accuracy: 0.8482\n",
            "Epoch 37/100\n",
            "5359/5359 [==============================] - 2s 430us/step - loss: 0.3411 - accuracy: 0.8606 - val_loss: 0.3656 - val_accuracy: 0.8478\n",
            "Epoch 38/100\n",
            "5359/5359 [==============================] - 2s 441us/step - loss: 0.3408 - accuracy: 0.8600 - val_loss: 0.3647 - val_accuracy: 0.8501\n",
            "Epoch 39/100\n",
            "5359/5359 [==============================] - 3s 490us/step - loss: 0.3398 - accuracy: 0.8617 - val_loss: 0.3649 - val_accuracy: 0.8485\n",
            "Epoch 40/100\n",
            "5359/5359 [==============================] - 2s 438us/step - loss: 0.3396 - accuracy: 0.8602 - val_loss: 0.3634 - val_accuracy: 0.8489\n",
            "Epoch 41/100\n",
            "5359/5359 [==============================] - 2s 441us/step - loss: 0.3391 - accuracy: 0.8612 - val_loss: 0.3636 - val_accuracy: 0.8493\n",
            "Epoch 42/100\n",
            "5359/5359 [==============================] - 2s 425us/step - loss: 0.3388 - accuracy: 0.8606 - val_loss: 0.3633 - val_accuracy: 0.8508\n",
            "Epoch 43/100\n",
            "5359/5359 [==============================] - 2s 424us/step - loss: 0.3384 - accuracy: 0.8604 - val_loss: 0.3627 - val_accuracy: 0.8504\n",
            "Epoch 44/100\n",
            "5359/5359 [==============================] - 2s 441us/step - loss: 0.3381 - accuracy: 0.8619 - val_loss: 0.3626 - val_accuracy: 0.8501\n",
            "Epoch 45/100\n",
            "5359/5359 [==============================] - 3s 470us/step - loss: 0.3373 - accuracy: 0.8610 - val_loss: 0.3620 - val_accuracy: 0.8489\n",
            "Epoch 46/100\n",
            "5359/5359 [==============================] - 2s 462us/step - loss: 0.3371 - accuracy: 0.8632 - val_loss: 0.3617 - val_accuracy: 0.8497\n",
            "Epoch 47/100\n",
            "5359/5359 [==============================] - 2s 466us/step - loss: 0.3368 - accuracy: 0.8632 - val_loss: 0.3616 - val_accuracy: 0.8512\n",
            "Epoch 48/100\n",
            "5359/5359 [==============================] - 3s 486us/step - loss: 0.3364 - accuracy: 0.8627 - val_loss: 0.3608 - val_accuracy: 0.8508\n",
            "Epoch 49/100\n",
            "5359/5359 [==============================] - 2s 454us/step - loss: 0.3359 - accuracy: 0.8619 - val_loss: 0.3609 - val_accuracy: 0.8493\n",
            "Epoch 50/100\n",
            "5359/5359 [==============================] - 2s 454us/step - loss: 0.3357 - accuracy: 0.8599 - val_loss: 0.3614 - val_accuracy: 0.8523\n",
            "Epoch 51/100\n",
            "5359/5359 [==============================] - 2s 433us/step - loss: 0.3353 - accuracy: 0.8619 - val_loss: 0.3609 - val_accuracy: 0.8523\n",
            "Epoch 52/100\n",
            "5359/5359 [==============================] - 3s 490us/step - loss: 0.3353 - accuracy: 0.8630 - val_loss: 0.3602 - val_accuracy: 0.8523\n",
            "Epoch 53/100\n",
            "5359/5359 [==============================] - 3s 501us/step - loss: 0.3350 - accuracy: 0.8630 - val_loss: 0.3603 - val_accuracy: 0.8535\n",
            "Epoch 54/100\n",
            "5359/5359 [==============================] - 3s 544us/step - loss: 0.3348 - accuracy: 0.8625 - val_loss: 0.3605 - val_accuracy: 0.8542\n",
            "Epoch 55/100\n",
            "5359/5359 [==============================] - 3s 497us/step - loss: 0.3346 - accuracy: 0.8625 - val_loss: 0.3600 - val_accuracy: 0.8550\n",
            "Epoch 56/100\n",
            "5359/5359 [==============================] - 2s 448us/step - loss: 0.3347 - accuracy: 0.8628 - val_loss: 0.3608 - val_accuracy: 0.8546\n",
            "Epoch 57/100\n",
            "5359/5359 [==============================] - 2s 422us/step - loss: 0.3342 - accuracy: 0.8615 - val_loss: 0.3603 - val_accuracy: 0.8546\n",
            "Epoch 58/100\n",
            "5359/5359 [==============================] - 2s 418us/step - loss: 0.3339 - accuracy: 0.8636 - val_loss: 0.3611 - val_accuracy: 0.8542\n",
            "Epoch 59/100\n",
            "5359/5359 [==============================] - 2s 425us/step - loss: 0.3342 - accuracy: 0.8649 - val_loss: 0.3599 - val_accuracy: 0.8565\n",
            "Epoch 60/100\n",
            "5359/5359 [==============================] - 2s 432us/step - loss: 0.3337 - accuracy: 0.8640 - val_loss: 0.3596 - val_accuracy: 0.8550\n",
            "Epoch 61/100\n",
            "5359/5359 [==============================] - 2s 425us/step - loss: 0.3341 - accuracy: 0.8625 - val_loss: 0.3600 - val_accuracy: 0.8550\n",
            "Epoch 62/100\n",
            "5359/5359 [==============================] - 3s 471us/step - loss: 0.3335 - accuracy: 0.8630 - val_loss: 0.3596 - val_accuracy: 0.8557\n",
            "Epoch 63/100\n",
            "5359/5359 [==============================] - 2s 442us/step - loss: 0.3335 - accuracy: 0.8634 - val_loss: 0.3593 - val_accuracy: 0.8542\n",
            "Epoch 64/100\n",
            "5359/5359 [==============================] - 2s 455us/step - loss: 0.3335 - accuracy: 0.8638 - val_loss: 0.3597 - val_accuracy: 0.8554\n",
            "Epoch 65/100\n",
            "5359/5359 [==============================] - 3s 474us/step - loss: 0.3335 - accuracy: 0.8632 - val_loss: 0.3592 - val_accuracy: 0.8561\n",
            "Epoch 66/100\n",
            "5359/5359 [==============================] - 2s 447us/step - loss: 0.3333 - accuracy: 0.8628 - val_loss: 0.3592 - val_accuracy: 0.8561\n",
            "Epoch 67/100\n",
            "5359/5359 [==============================] - 2s 420us/step - loss: 0.3331 - accuracy: 0.8638 - val_loss: 0.3592 - val_accuracy: 0.8538\n",
            "Epoch 68/100\n",
            "5359/5359 [==============================] - 2s 447us/step - loss: 0.3332 - accuracy: 0.8651 - val_loss: 0.3595 - val_accuracy: 0.8561\n",
            "Epoch 69/100\n",
            "5359/5359 [==============================] - 2s 426us/step - loss: 0.3331 - accuracy: 0.8634 - val_loss: 0.3597 - val_accuracy: 0.8565\n",
            "Epoch 70/100\n",
            "5359/5359 [==============================] - 2s 458us/step - loss: 0.3329 - accuracy: 0.8640 - val_loss: 0.3594 - val_accuracy: 0.8554\n",
            "Epoch 71/100\n",
            "5359/5359 [==============================] - 2s 430us/step - loss: 0.3324 - accuracy: 0.8623 - val_loss: 0.3596 - val_accuracy: 0.8561\n",
            "Epoch 72/100\n",
            "5359/5359 [==============================] - 2s 422us/step - loss: 0.3325 - accuracy: 0.8638 - val_loss: 0.3594 - val_accuracy: 0.8546\n",
            "Epoch 73/100\n",
            "5359/5359 [==============================] - 3s 470us/step - loss: 0.3326 - accuracy: 0.8642 - val_loss: 0.3591 - val_accuracy: 0.8554\n",
            "Epoch 74/100\n",
            "5359/5359 [==============================] - 2s 464us/step - loss: 0.3325 - accuracy: 0.8640 - val_loss: 0.3591 - val_accuracy: 0.8557\n",
            "Epoch 75/100\n",
            "5359/5359 [==============================] - 3s 488us/step - loss: 0.3324 - accuracy: 0.8638 - val_loss: 0.3585 - val_accuracy: 0.8557\n",
            "Epoch 76/100\n",
            "5359/5359 [==============================] - 2s 454us/step - loss: 0.3324 - accuracy: 0.8642 - val_loss: 0.3583 - val_accuracy: 0.8576\n",
            "Epoch 77/100\n",
            "5359/5359 [==============================] - 2s 422us/step - loss: 0.3324 - accuracy: 0.8645 - val_loss: 0.3587 - val_accuracy: 0.8565\n",
            "Epoch 78/100\n",
            "5359/5359 [==============================] - 2s 452us/step - loss: 0.3320 - accuracy: 0.8645 - val_loss: 0.3590 - val_accuracy: 0.8550\n",
            "Epoch 79/100\n",
            "5359/5359 [==============================] - 2s 450us/step - loss: 0.3323 - accuracy: 0.8645 - val_loss: 0.3587 - val_accuracy: 0.8557\n",
            "Epoch 80/100\n",
            "5359/5359 [==============================] - 3s 471us/step - loss: 0.3320 - accuracy: 0.8628 - val_loss: 0.3595 - val_accuracy: 0.8573\n",
            "Epoch 81/100\n",
            "5359/5359 [==============================] - 2s 438us/step - loss: 0.3321 - accuracy: 0.8625 - val_loss: 0.3592 - val_accuracy: 0.8561\n",
            "Epoch 82/100\n",
            "5359/5359 [==============================] - 2s 420us/step - loss: 0.3318 - accuracy: 0.8640 - val_loss: 0.3579 - val_accuracy: 0.8546\n",
            "Epoch 83/100\n",
            "5359/5359 [==============================] - 3s 489us/step - loss: 0.3321 - accuracy: 0.8638 - val_loss: 0.3579 - val_accuracy: 0.8550\n",
            "Epoch 84/100\n",
            "5359/5359 [==============================] - 2s 437us/step - loss: 0.3314 - accuracy: 0.8645 - val_loss: 0.3588 - val_accuracy: 0.8554\n",
            "Epoch 85/100\n",
            "5359/5359 [==============================] - 2s 453us/step - loss: 0.3316 - accuracy: 0.8632 - val_loss: 0.3584 - val_accuracy: 0.8561\n",
            "Epoch 86/100\n",
            "5359/5359 [==============================] - 3s 471us/step - loss: 0.3315 - accuracy: 0.8636 - val_loss: 0.3585 - val_accuracy: 0.8542\n",
            "Epoch 87/100\n",
            "5359/5359 [==============================] - 3s 488us/step - loss: 0.3314 - accuracy: 0.8638 - val_loss: 0.3586 - val_accuracy: 0.8554\n",
            "Epoch 88/100\n",
            "5359/5359 [==============================] - 3s 476us/step - loss: 0.3318 - accuracy: 0.8640 - val_loss: 0.3582 - val_accuracy: 0.8542\n",
            "Epoch 89/100\n",
            "5359/5359 [==============================] - 2s 423us/step - loss: 0.3314 - accuracy: 0.8658 - val_loss: 0.3580 - val_accuracy: 0.8565\n",
            "Epoch 90/100\n",
            "5359/5359 [==============================] - 2s 465us/step - loss: 0.3315 - accuracy: 0.8636 - val_loss: 0.3585 - val_accuracy: 0.8550\n",
            "Epoch 91/100\n",
            "5359/5359 [==============================] - 2s 456us/step - loss: 0.3314 - accuracy: 0.8638 - val_loss: 0.3584 - val_accuracy: 0.8550\n",
            "Epoch 92/100\n",
            "5359/5359 [==============================] - 2s 424us/step - loss: 0.3312 - accuracy: 0.8660 - val_loss: 0.3589 - val_accuracy: 0.8561\n",
            "Epoch 93/100\n",
            "5359/5359 [==============================] - 2s 429us/step - loss: 0.3311 - accuracy: 0.8647 - val_loss: 0.3588 - val_accuracy: 0.8554\n",
            "Epoch 94/100\n",
            "5359/5359 [==============================] - 2s 450us/step - loss: 0.3312 - accuracy: 0.8649 - val_loss: 0.3580 - val_accuracy: 0.8557\n",
            "Epoch 95/100\n",
            "5359/5359 [==============================] - 2s 420us/step - loss: 0.3310 - accuracy: 0.8662 - val_loss: 0.3589 - val_accuracy: 0.8546\n",
            "Epoch 96/100\n",
            "5359/5359 [==============================] - 2s 430us/step - loss: 0.3310 - accuracy: 0.8638 - val_loss: 0.3581 - val_accuracy: 0.8546\n",
            "Epoch 97/100\n",
            "5359/5359 [==============================] - 2s 449us/step - loss: 0.3305 - accuracy: 0.8653 - val_loss: 0.3581 - val_accuracy: 0.8565\n",
            "Epoch 98/100\n",
            "5359/5359 [==============================] - 2s 462us/step - loss: 0.3311 - accuracy: 0.8640 - val_loss: 0.3576 - val_accuracy: 0.8565\n",
            "Epoch 99/100\n",
            "5359/5359 [==============================] - 3s 484us/step - loss: 0.3309 - accuracy: 0.8638 - val_loss: 0.3574 - val_accuracy: 0.8569\n",
            "Epoch 100/100\n",
            "5359/5359 [==============================] - 2s 416us/step - loss: 0.3306 - accuracy: 0.8658 - val_loss: 0.3584 - val_accuracy: 0.8554\n"
          ],
          "name": "stdout"
        }
      ]
    },
    {
      "cell_type": "code",
      "metadata": {
        "id": "WkLDd41jIVdh",
        "colab_type": "code",
        "colab": {
          "base_uri": "https://localhost:8080/",
          "height": 34
        },
        "outputId": "714ce837-5e4a-4c73-8939-4a3569668ca3"
      },
      "source": [
        "print(model_history.history.keys())"
      ],
      "execution_count": 22,
      "outputs": [
        {
          "output_type": "stream",
          "text": [
            "dict_keys(['val_loss', 'val_accuracy', 'loss', 'accuracy'])\n"
          ],
          "name": "stdout"
        }
      ]
    },
    {
      "cell_type": "code",
      "metadata": {
        "id": "r4isN7ccJoqH",
        "colab_type": "code",
        "colab": {
          "base_uri": "https://localhost:8080/",
          "height": 295
        },
        "outputId": "3855f913-09eb-4f67-cc5f-e659502c5a8c"
      },
      "source": [
        "# summarize history for accuracy\n",
        "plt.plot(model_history.history['accuracy'])\n",
        "plt.plot(model_history.history['val_accuracy'])\n",
        "plt.title('model accuracy')\n",
        "plt.ylabel('accuracy')\n",
        "plt.xlabel('epoch')\n",
        "plt.legend(['train', 'test'], loc='upper left')\n",
        "plt.show()"
      ],
      "execution_count": 25,
      "outputs": [
        {
          "output_type": "display_data",
          "data": {
            "image/png": "[encoded data removed]",
            "text/plain": [
              "<Figure size 432x288 with 1 Axes>"
            ]
          },
          "metadata": {
            "tags": [],
            "needs_background": "light"
          }
        }
      ]
    },
    {
      "cell_type": "code",
      "metadata": {
        "id": "AQzibLRuJtmG",
        "colab_type": "code",
        "colab": {
          "base_uri": "https://localhost:8080/",
          "height": 295
        },
        "outputId": "548e4668-c60e-4739-93c7-4471201f7665"
      },
      "source": [
        "# summarize history for loss\n",
        "plt.plot(model_history.history['loss'])\n",
        "plt.plot(model_history.history['val_loss'])\n",
        "plt.title('model loss')\n",
        "plt.ylabel('loss')\n",
        "plt.xlabel('epoch')\n",
        "plt.legend(['train', 'test'], loc='upper left')\n",
        "plt.show()"
      ],
      "execution_count": 26,
      "outputs": [
        {
          "output_type": "display_data",
          "data": {
            "image/png": "[encoded data removed]",
            "text/plain": [
              "<Figure size 432x288 with 1 Axes>"
            ]
          },
          "metadata": {
            "tags": [],
            "needs_background": "light"
          }
        }
      ]
    }
  ]
}
